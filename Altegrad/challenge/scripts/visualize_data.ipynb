{
 "cells": [
  {
   "cell_type": "code",
   "execution_count": 2,
   "metadata": {
    "collapsed": false
   },
   "outputs": [],
   "source": [
    "import random\n",
    "import csv\n",
    "import numpy as np\n",
    "import pandas as pd\n",
    "import networkx as nx\n",
    "import matplotlib\n",
    "import matplotlib.pyplot as plt\n",
    "from __future__ import division\n",
    "from pandas.tools.plotting import scatter_matrix, andrews_curves\n",
    "from sklearn.preprocessing import MinMaxScaler\n",
    "from attribute_features import *\n",
    "from sklearn.decomposition import PCA, FactorAnalysis, KernelPCA\n",
    "\n",
    "matplotlib.style.use('ggplot')\n",
    "%load_ext autoreload\n",
    "%matplotlib inline  \n"
   ]
  },
  {
   "cell_type": "code",
   "execution_count": null,
   "metadata": {
    "collapsed": false
   },
   "outputs": [],
   "source": [
    "nodes_info = pd.read_csv(\"../data/node_information.csv\", header= None,\\\n",
    " names=[\"Id\", \"year\", \"title\", \"authors\", \"journal\", \"abstract\"],\\\n",
    " sep=\",\",index_col = \"Id\", encoding = 'utf-8')\n",
    "# Parsing authors and their affiliations\n",
    "fix_auth_aff(nodes_info)"
   ]
  },
  {
   "cell_type": "code",
   "execution_count": null,
   "metadata": {
    "collapsed": false
   },
   "outputs": [],
   "source": [
    "print nodes_info.values[21]"
   ]
  },
  {
   "cell_type": "code",
   "execution_count": null,
   "metadata": {
    "collapsed": false
   },
   "outputs": [],
   "source": [
    "years = np.arange(1992,2005)\n",
    "nodes_info[\"year\"].plot(kind=\"hist\",bins=years,color='k',alpha=0.5)\n",
    "plt.xticks(years[:-1]+.5,years[:-1])\n",
    "plt.savefig(\"../figures/articles_years.pdf\",bbox_inches='tight')\n"
   ]
  },
  {
   "cell_type": "code",
   "execution_count": null,
   "metadata": {
    "collapsed": false,
    "scrolled": true
   },
   "outputs": [],
   "source": [
    "plt.figure(figsize=(5,7))\n",
    "journals=pd.get_dummies(nodes_info[\"journal\"]).sum()\n",
    "journals[\"Unknown\"] = nodes_info[\"journal\"].isnull().sum()\n",
    "journals.sort_values(ascending=False)[:30].plot(kind=\"barh\",color='k',alpha=0.5)\n",
    "plt.gca().set_xscale(\"log\")\n",
    "plt.xlabel('Frequency')\n",
    "plt.savefig(\"../figures/articles_journals.pdf\",bbox_inches='tight')\n"
   ]
  },
  {
   "cell_type": "markdown",
   "metadata": {},
   "source": [
    "# Citations graph"
   ]
  },
  {
   "cell_type": "code",
   "execution_count": null,
   "metadata": {
    "collapsed": false
   },
   "outputs": [],
   "source": [
    "G = nx.read_edgelist(\"../data/G_articles.edgelist\",encoding='utf-8')\n",
    "G_nodes = G.nodes()\n",
    "# Degree\n",
    "degree_sequence = G.degree().values()\n",
    "print \"Min degree: \", np.min(degree_sequence)\n",
    "print \"Least connected :\", G_nodes[np.argmin(degree_sequence)]\n",
    "print \"Max degree: \", np.max(degree_sequence)\n",
    "print \"Most connected :\", G_nodes[np.argmin(degree_sequence)]\n",
    "print \"Least connected :\", G_nodes[np.argmax(degree_sequence)]\n",
    "print \"Median degree: \", np.median(degree_sequence)\n",
    "print \"Mean degree: \", np.mean(degree_sequence)\n",
    "\n",
    "# Degree histogram\n",
    "y=nx.degree_histogram(G)\n",
    "plt.figure(1)\n",
    "plt.loglog(y,'b-',marker='o',alpha=0.5,color='k')\n",
    "plt.ylabel(\"Frequency\")\n",
    "plt.xlabel(\"Degree\")\n",
    "plt.draw()\n",
    "plt.savefig(\"../figures/G_degrees.pdf\",bbox_inches='tight')"
   ]
  },
  {
   "cell_type": "markdown",
   "metadata": {},
   "source": [
    "# Authors graph"
   ]
  },
  {
   "cell_type": "code",
   "execution_count": null,
   "metadata": {
    "collapsed": false
   },
   "outputs": [],
   "source": [
    "GAC = nx.read_edgelist(\"../data/G_authors_citations.edgelist\",encoding='utf-8')\n",
    "GAC_nodes = GAC.nodes()\n",
    "# Degree\n",
    "degree_sequence = GAC.degree().values()\n",
    "print \"Min degree: \", np.min(degree_sequence)\n",
    "print \"Max degree: \", np.max(degree_sequence)\n",
    "print \"Median degree: \", np.median(degree_sequence)\n",
    "print \"Mean degree: \", np.mean(degree_sequence)\n",
    "print \"Least connected :\", GAC_nodes[np.argmin(degree_sequence)]\n",
    "print \"Most connected :\", GAC_nodes[np.argmax(degree_sequence)]\n",
    "\n",
    "# Degree histogram\n",
    "y=nx.degree_histogram(GAC)\n",
    "plt.figure(1)\n",
    "plt.loglog(y,'b-',marker='o',alpha=0.5,color='k')\n",
    "plt.ylabel(\"Frequency\")\n",
    "plt.xlabel(\"Degree\")\n",
    "plt.draw()\n",
    "plt.savefig(\"../figures/GAC_degrees.pdf\",bbox_inches='tight')\n"
   ]
  },
  {
   "cell_type": "code",
   "execution_count": null,
   "metadata": {
    "collapsed": false
   },
   "outputs": [],
   "source": [
    "#GAA = nx.read_edgelist(\"../saved/G_authors_coauthorship.edgelist\",encoding='utf-8',nodetype=str)\n",
    "GAA_nodes = GAA.nodes()\n",
    "# Degree\n",
    "degree_sequence = GAA.degree().values()\n",
    "print \"Min degree: \", np.min(degree_sequence)\n",
    "print \"Max degree: \", np.max(degree_sequence)\n",
    "print \"Median degree: \", np.median(degree_sequence)\n",
    "print \"Mean degree: \", np.mean(degree_sequence)\n",
    "print \"Author with the most collaborations :\", GAA_nodes[np.argmax(degree_sequence)]\n",
    "print \"Author with the least collaborations :\", GAA_nodes[np.argmin(degree_sequence)]\n",
    "\n",
    "# Degree histogram\n",
    "y=nx.degree_histogram(GAA)\n",
    "plt.figure(1)\n",
    "plt.loglog(y,'b-',marker='o',alpha=0.5,color='k')\n",
    "plt.ylabel(\"Frequency\")\n",
    "plt.xlabel(\"Degree\")\n",
    "plt.draw()\n",
    "plt.savefig(\"../figures/GAA_degrees.pdf\",bbox_inches='tight')\n"
   ]
  },
  {
   "cell_type": "markdown",
   "metadata": {},
   "source": [
    "# Visualize features"
   ]
  },
  {
   "cell_type": "code",
   "execution_count": 2,
   "metadata": {
    "collapsed": false
   },
   "outputs": [
    {
     "name": "stdout",
     "output_type": "stream",
     "text": [
      "(600000, 21) (600000, 1)\n"
     ]
    }
   ],
   "source": [
    "X = pd.read_csv(\"../data/Xtrain.csv\", sep=\",\", index_col=0,header=0)\n",
    "Y = pd.read_csv(\"../data/Ytrain.csv\", sep=\",\", index_col=0,header=None)\n",
    "print X.shape, Y.shape"
   ]
  },
  {
   "cell_type": "code",
   "execution_count": null,
   "metadata": {
    "collapsed": false
   },
   "outputs": [],
   "source": [
    "nodes_info.head()"
   ]
  },
  {
   "cell_type": "code",
   "execution_count": 3,
   "metadata": {
    "collapsed": false
   },
   "outputs": [
    {
     "data": {
      "text/html": [
       "<div>\n",
       "<table border=\"1\" class=\"dataframe\">\n",
       "  <thead>\n",
       "    <tr style=\"text-align: right;\">\n",
       "      <th></th>\n",
       "      <th>source</th>\n",
       "      <th>target</th>\n",
       "      <th>dispersion</th>\n",
       "      <th>common neighbours</th>\n",
       "      <th>Jaccard coefficient</th>\n",
       "      <th>Adar</th>\n",
       "      <th>Adar authors</th>\n",
       "      <th>diff inlinks</th>\n",
       "      <th>to cited</th>\n",
       "      <th>cited authority</th>\n",
       "      <th>...</th>\n",
       "      <th>authors same co</th>\n",
       "      <th>title overlap</th>\n",
       "      <th>temporal diff</th>\n",
       "      <th>self citation</th>\n",
       "      <th>same journal</th>\n",
       "      <th>common authors</th>\n",
       "      <th>same affiliation word2vec</th>\n",
       "      <th>same affiliation tfidf</th>\n",
       "      <th>abstract tfidf cosine</th>\n",
       "      <th>abstract word2vec cosine</th>\n",
       "    </tr>\n",
       "  </thead>\n",
       "  <tbody>\n",
       "    <tr>\n",
       "      <th>0</th>\n",
       "      <td>9110</td>\n",
       "      <td>9802064</td>\n",
       "      <td>1.000000</td>\n",
       "      <td>20</td>\n",
       "      <td>0.416667</td>\n",
       "      <td>5.718086</td>\n",
       "      <td>3.769961</td>\n",
       "      <td>6</td>\n",
       "      <td>24</td>\n",
       "      <td>0.000227</td>\n",
       "      <td>...</td>\n",
       "      <td>True</td>\n",
       "      <td>1</td>\n",
       "      <td>2</td>\n",
       "      <td>True</td>\n",
       "      <td>True</td>\n",
       "      <td>2</td>\n",
       "      <td>0.0</td>\n",
       "      <td>0.0</td>\n",
       "      <td>0.251996</td>\n",
       "      <td>0.762719</td>\n",
       "    </tr>\n",
       "    <tr>\n",
       "      <th>1</th>\n",
       "      <td>9811159</td>\n",
       "      <td>3072</td>\n",
       "      <td>0.000000</td>\n",
       "      <td>0</td>\n",
       "      <td>0.000000</td>\n",
       "      <td>0.000000</td>\n",
       "      <td>0.000000</td>\n",
       "      <td>-20</td>\n",
       "      <td>6</td>\n",
       "      <td>0.000146</td>\n",
       "      <td>...</td>\n",
       "      <td>False</td>\n",
       "      <td>0</td>\n",
       "      <td>-2</td>\n",
       "      <td>False</td>\n",
       "      <td>True</td>\n",
       "      <td>0</td>\n",
       "      <td>0.0</td>\n",
       "      <td>0.0</td>\n",
       "      <td>0.007171</td>\n",
       "      <td>0.221739</td>\n",
       "    </tr>\n",
       "    <tr>\n",
       "      <th>2</th>\n",
       "      <td>102202</td>\n",
       "      <td>9302099</td>\n",
       "      <td>0.500000</td>\n",
       "      <td>6</td>\n",
       "      <td>0.064516</td>\n",
       "      <td>1.326143</td>\n",
       "      <td>1.821843</td>\n",
       "      <td>1</td>\n",
       "      <td>14</td>\n",
       "      <td>0.000510</td>\n",
       "      <td>...</td>\n",
       "      <td>True</td>\n",
       "      <td>0</td>\n",
       "      <td>8</td>\n",
       "      <td>False</td>\n",
       "      <td>False</td>\n",
       "      <td>0</td>\n",
       "      <td>0.0</td>\n",
       "      <td>0.0</td>\n",
       "      <td>0.075032</td>\n",
       "      <td>0.499340</td>\n",
       "    </tr>\n",
       "    <tr>\n",
       "      <th>3</th>\n",
       "      <td>11258</td>\n",
       "      <td>9707123</td>\n",
       "      <td>0.000000</td>\n",
       "      <td>0</td>\n",
       "      <td>0.000000</td>\n",
       "      <td>0.000000</td>\n",
       "      <td>0.000000</td>\n",
       "      <td>44</td>\n",
       "      <td>56</td>\n",
       "      <td>0.000000</td>\n",
       "      <td>...</td>\n",
       "      <td>False</td>\n",
       "      <td>0</td>\n",
       "      <td>3</td>\n",
       "      <td>False</td>\n",
       "      <td>False</td>\n",
       "      <td>0</td>\n",
       "      <td>0.0</td>\n",
       "      <td>0.0</td>\n",
       "      <td>0.045718</td>\n",
       "      <td>0.212872</td>\n",
       "    </tr>\n",
       "    <tr>\n",
       "      <th>4</th>\n",
       "      <td>110214</td>\n",
       "      <td>11279</td>\n",
       "      <td>0.666667</td>\n",
       "      <td>3</td>\n",
       "      <td>0.063830</td>\n",
       "      <td>0.517306</td>\n",
       "      <td>0.000000</td>\n",
       "      <td>13</td>\n",
       "      <td>14</td>\n",
       "      <td>0.000000</td>\n",
       "      <td>...</td>\n",
       "      <td>False</td>\n",
       "      <td>0</td>\n",
       "      <td>1</td>\n",
       "      <td>False</td>\n",
       "      <td>False</td>\n",
       "      <td>0</td>\n",
       "      <td>0.0</td>\n",
       "      <td>0.0</td>\n",
       "      <td>0.084840</td>\n",
       "      <td>0.445840</td>\n",
       "    </tr>\n",
       "  </tbody>\n",
       "</table>\n",
       "<p>5 rows × 21 columns</p>\n",
       "</div>"
      ],
      "text/plain": [
       "    source   target  dispersion  common neighbours  Jaccard coefficient  \\\n",
       "0     9110  9802064    1.000000                 20             0.416667   \n",
       "1  9811159     3072    0.000000                  0             0.000000   \n",
       "2   102202  9302099    0.500000                  6             0.064516   \n",
       "3    11258  9707123    0.000000                  0             0.000000   \n",
       "4   110214    11279    0.666667                  3             0.063830   \n",
       "\n",
       "       Adar  Adar authors  diff inlinks  to cited  cited authority  \\\n",
       "0  5.718086      3.769961             6        24         0.000227   \n",
       "1  0.000000      0.000000           -20         6         0.000146   \n",
       "2  1.326143      1.821843             1        14         0.000510   \n",
       "3  0.000000      0.000000            44        56         0.000000   \n",
       "4  0.517306      0.000000            13        14         0.000000   \n",
       "\n",
       "             ...            authors same co title overlap  temporal diff  \\\n",
       "0            ...                       True             1              2   \n",
       "1            ...                      False             0             -2   \n",
       "2            ...                       True             0              8   \n",
       "3            ...                      False             0              3   \n",
       "4            ...                      False             0              1   \n",
       "\n",
       "   self citation same journal common authors  same affiliation word2vec  \\\n",
       "0           True         True              2                        0.0   \n",
       "1          False         True              0                        0.0   \n",
       "2          False        False              0                        0.0   \n",
       "3          False        False              0                        0.0   \n",
       "4          False        False              0                        0.0   \n",
       "\n",
       "   same affiliation tfidf  abstract tfidf cosine  abstract word2vec cosine  \n",
       "0                     0.0               0.251996                  0.762719  \n",
       "1                     0.0               0.007171                  0.221739  \n",
       "2                     0.0               0.075032                  0.499340  \n",
       "3                     0.0               0.045718                  0.212872  \n",
       "4                     0.0               0.084840                  0.445840  \n",
       "\n",
       "[5 rows x 21 columns]"
      ]
     },
     "execution_count": 3,
     "metadata": {},
     "output_type": "execute_result"
    }
   ],
   "source": [
    "X.head()"
   ]
  },
  {
   "cell_type": "code",
   "execution_count": null,
   "metadata": {
    "collapsed": false
   },
   "outputs": [],
   "source": [
    "X_pos = X[Y.values==1]\n",
    "X_neg = X[Y.values==0]\n",
    "X_pos.head()\n",
    "print X_pos.shape\n",
    "print X_neg.shape"
   ]
  },
  {
   "cell_type": "code",
   "execution_count": null,
   "metadata": {
    "collapsed": false
   },
   "outputs": [],
   "source": [
    "B = np.linspace(-11,11,23)\n",
    "X_pos[\"temporal diff\"].plot(kind=\"hist\",bins=B, color='b',label='1',edgecolor='b')\n",
    "X_neg[\"temporal diff\"].plot(kind=\"hist\",bins=B, color= 'r' ,alpha=.7, label='0',edgecolor='r')\n",
    "#plt.legend()\n",
    "plt.xlim([-11,11])\n",
    "plt.gca().set_yscale(\"log\")\n",
    "plt.savefig(\"../figures/temporal_diff.pdf\",bbox_inches='tight')"
   ]
  },
  {
   "cell_type": "code",
   "execution_count": null,
   "metadata": {
    "collapsed": false
   },
   "outputs": [],
   "source": [
    "B = np.linspace(0.,15,100)\n",
    "X_pos[\"dispersion\"].plot(kind=\"hist\",bins=B, color='b',label='1',edgecolor='b')\n",
    "X_neg[\"dispersion\"].plot(kind=\"hist\",bins=B, color= 'r' ,alpha=.7, label='0',edgecolor='r')\n",
    "#plt.legend()\n",
    "plt.gca().set_yscale(\"log\")\n",
    "plt.savefig(\"../figures/dispersion.pdf\",bbox_inches='tight')"
   ]
  },
  {
   "cell_type": "code",
   "execution_count": null,
   "metadata": {
    "collapsed": false
   },
   "outputs": [],
   "source": [
    "#B = np.linspace(-10,30,100)\n",
    "X_pos[\"to cited\"].plot(kind=\"hist\",bins=100,color='b',label='1',edgecolor='b')\n",
    "X_neg[\"to cited\"].plot(kind=\"hist\",bins=100, color ='r',alpha=.7,label='0',edgecolor='r')\n",
    "#plt.legend()\n",
    "plt.gca().set_yscale(\"log\")\n",
    "plt.savefig(\"../figures/to_cited.pdf\",bbox_inches='tight')"
   ]
  },
  {
   "cell_type": "code",
   "execution_count": null,
   "metadata": {
    "collapsed": false
   },
   "outputs": [],
   "source": [
    "#B = np.linspace(-10,30,100)\n",
    "X_pos[\"cited authority\"].plot(kind=\"hist\",bins=100,color='b',label='1',edgecolor='b')\n",
    "X_neg[\"cited authority\"].plot(kind=\"hist\",bins=100, color ='r',alpha=.7,label='0',edgecolor='r')\n",
    "#plt.legend()\n",
    "plt.gca().set_yscale(\"log\")\n",
    "plt.savefig(\"../figures/cited_authority.pdf\",bbox_inches='tight')"
   ]
  },
  {
   "cell_type": "code",
   "execution_count": null,
   "metadata": {
    "collapsed": false
   },
   "outputs": [],
   "source": [
    "B = np.linspace(0,100,100)\n",
    "X_pos[\"Adar\"].plot(kind=\"hist\",bins=B,color='b',label='1',edgecolor='b')\n",
    "X_neg[\"Adar\"].plot(kind=\"hist\",bins=B, color ='r',alpha=.7,label='0',edgecolor='r')\n",
    "#plt.legend()\n",
    "plt.gca().set_yscale(\"log\")\n",
    "plt.savefig(\"../figures/adar.pdf\",bbox_inches='tight')"
   ]
  },
  {
   "cell_type": "code",
   "execution_count": null,
   "metadata": {
    "collapsed": false
   },
   "outputs": [],
   "source": [
    "#B = np.linspace(-10,30,100)\n",
    "X_pos[\"Jaccard coefficient\"].plot(kind=\"hist\",bins=100,color='b',label='1',edgecolor='b')\n",
    "X_neg[\"Jaccard coefficient\"].plot(kind=\"hist\",bins=100, color ='r',alpha=.7,label='0',edgecolor='r')\n",
    "#plt.legend()\n",
    "plt.gca().set_yscale(\"log\")\n",
    "plt.savefig(\"../figures/jaccard.pdf\",bbox_inches='tight')"
   ]
  },
  {
   "cell_type": "code",
   "execution_count": null,
   "metadata": {
    "collapsed": false
   },
   "outputs": [],
   "source": [
    "B = np.linspace(-2000,2000,100)\n",
    "X_pos[\"diff inlinks\"].plot(kind=\"hist\",bins=B,color='b',label='1',edgecolor='b')\n",
    "X_neg[\"diff inlinks\"].plot(kind=\"hist\",bins=B, color ='r',alpha=.7,label='0',edgecolor='r')\n",
    "#plt.legend()\n",
    "plt.gca().set_yscale(\"log\")\n",
    "plt.savefig(\"../figures/diff_inlinks.pdf\",bbox_inches='tight')"
   ]
  },
  {
   "cell_type": "code",
   "execution_count": null,
   "metadata": {
    "collapsed": false
   },
   "outputs": [],
   "source": [
    "B = np.linspace(0,1,100)\n",
    "X_pos[\"Adar authors\"].plot(kind=\"hist\",bins=B,color='b',label='1',edgecolor='b')\n",
    "X_neg[\"Adar authors\"].plot(kind=\"hist\",bins=B, color ='r',alpha=.7,label='0',edgecolor='r')\n",
    "#plt.legend()\n",
    "plt.gca().set_yscale(\"log\")\n",
    "plt.savefig(\"../figures/adar_authors.pdf\",bbox_inches='tight')"
   ]
  },
  {
   "cell_type": "code",
   "execution_count": null,
   "metadata": {
    "collapsed": false
   },
   "outputs": [],
   "source": [
    "# positives\n",
    "P  = [sum(X_pos['same journal']==1) , sum(X_pos['same journal']==0),\\\n",
    "      sum(X_pos['self citation']==1),  sum(X_pos['self citation']==0),\\\n",
    "      sum(X_pos['articles same co']==1),sum(X_pos['articles same co']==0),\\\n",
    "      sum(X_pos['authors same co']==1), sum(X_pos['authors same co']==0)]\n",
    "\n",
    "N  = [sum(X_neg['same journal']==1) , sum(X_neg['same journal']==0),\\\n",
    "      sum(X_neg['self citation']==1),  sum(X_neg['self citation']==0),\\\n",
    "      sum(X_neg['articles same co']==1),sum(X_neg['articles same co']==0),\\\n",
    "      sum(X_neg['authors same co']==1), sum(X_neg['authors same co']==0)]"
   ]
  },
  {
   "cell_type": "code",
   "execution_count": null,
   "metadata": {
    "collapsed": false
   },
   "outputs": [],
   "source": [
    "A = np.linspace(0,2.5,8)\n",
    "ht = .3\n",
    "plt.barh(A,P,height=ht, color='b')\n",
    "plt.barh(A,N,height=ht, color='r',left=P)\n",
    "plt.yticks(A+ht/2,('different jounals','same journal','self citation','not a self citation',\\\n",
    "                   'same community (articles)','different comuntities (articles)',\\\n",
    "                  'same community (authors)','different communities (authors)'))\n",
    "plt.xlabel('Frequency')                  \n",
    "plt.savefig(\"../figures/categorical.pdf\",bbox_inches='tight')"
   ]
  },
  {
   "cell_type": "code",
   "execution_count": null,
   "metadata": {
    "collapsed": false
   },
   "outputs": [],
   "source": [
    "B = np.linspace(-0.5,1,100)\n",
    "X_pos[\"same affiliation word2vec\"].plot(kind=\"hist\",color='b',bins=B, label='1',edgecolor='b')\n",
    "X_neg[\"same affiliation word2vec\"].plot(kind=\"hist\",color ='r',alpha=.7, bins=B, label='0',edgecolor='r')\n",
    "#plt.legend()\n",
    "plt.xlim([-.5,1])\n",
    "plt.gca().set_yscale(\"log\")\n",
    "plt.savefig(\"../figures/aff_word2vec.pdf\",bbox_inches='tight')"
   ]
  },
  {
   "cell_type": "code",
   "execution_count": null,
   "metadata": {
    "collapsed": false
   },
   "outputs": [],
   "source": [
    "B = np.linspace(0.,1,100)\n",
    "X_pos[\"same affiliation tfidf\"].plot(kind=\"hist\",color='b',bins=B, label='1',edgecolor='b')\n",
    "X_neg[\"same affiliation tfidf\"].plot(kind=\"hist\",color ='r',alpha=.7, bins=B, label='0',edgecolor='r')\n",
    "#plt.legend()\n",
    "plt.gca().set_yscale(\"log\")\n",
    "plt.savefig(\"../figures/aff_tfidf.pdf\",bbox_inches='tight')"
   ]
  },
  {
   "cell_type": "code",
   "execution_count": null,
   "metadata": {
    "collapsed": false
   },
   "outputs": [],
   "source": [
    "B = np.linspace(0,1,100)\n",
    "X_pos[\"abstract tfidf cosine\"].plot(kind=\"hist\",bins=B,color='b',label='1',edgecolor='b')\n",
    "X_neg[\"abstract tfidf cosine\"].plot(kind=\"hist\",bins=B, color='r',alpha = .7,label='0',edgecolor='r')\n",
    "#plt.legend()\n",
    "plt.gca().set_yscale(\"log\")\n",
    "plt.savefig(\"../figures/abstract_tfidf.pdf\",bbox_inches='tight')"
   ]
  },
  {
   "cell_type": "code",
   "execution_count": null,
   "metadata": {
    "collapsed": false
   },
   "outputs": [],
   "source": [
    "B = np.linspace(0,1,100)\n",
    "X_pos[\"abstract word2vec cosine\"].plot(kind=\"hist\",bins=B,color='b',label='1',edgecolor='b')\n",
    "X_neg[\"abstract word2vec cosine\"].plot(kind=\"hist\",bins=B, color='r',alpha = .7,label='0',edgecolor='r')\n",
    "#plt.legend()\n",
    "plt.gca().set_yscale(\"log\")\n",
    "plt.savefig(\"../figures/abstract_word2vec.pdf\",bbox_inches='tight')"
   ]
  },
  {
   "cell_type": "code",
   "execution_count": null,
   "metadata": {
    "collapsed": false
   },
   "outputs": [],
   "source": [
    "X_pos[\"common authors\"].plot(kind=\"hist\",bins=range(9),color='b',label='1',edgecolor='b')\n",
    "X_neg[\"common authors\"].plot(kind=\"hist\",bins=range(9), color='r',alpha = .7,label='0',edgecolor='r')\n",
    "#plt.legend()\n",
    "plt.gca().set_yscale(\"log\")\n",
    "plt.savefig(\"../figures/common_authors.pdf\",bbox_inches='tight')"
   ]
  },
  {
   "cell_type": "code",
   "execution_count": null,
   "metadata": {
    "collapsed": false
   },
   "outputs": [],
   "source": [
    "X_pos[\"common neighbours\"].plot(kind=\"hist\",bins=range(200),color='b',label='1', edgecolor='b')\n",
    "X_neg[\"common neighbours\"].plot(kind=\"hist\",bins=range(200), color='r',alpha = .7,label='0', edgecolor='r')\n",
    "#plt.legend()\n",
    "plt.gca().set_yscale(\"log\")\n",
    "plt.savefig(\"../figures/common_neighbors.pdf\",bbox_inches='tight')"
   ]
  },
  {
   "cell_type": "markdown",
   "metadata": {},
   "source": [
    "## Community detection:"
   ]
  },
  {
   "cell_type": "code",
   "execution_count": null,
   "metadata": {
    "collapsed": false
   },
   "outputs": [],
   "source": [
    "GAC_partition = pd.read_csv(\"../data/GAC_partition.csv\", sep=\",\", index_col=0, header=0)\n",
    "GAC_partition.plot(kind=\"hist\",color='k',bins=214,edgecolor='k',alpha=.6)\n",
    "plt.xlim([0,213])\n",
    "plt.gca().set_yscale(\"log\")\n",
    "plt.xlabel('GAC community index')\n",
    "ax = plt.gca()\n",
    "ax.legend_ = None\n",
    "plt.savefig(\"../figures/GAC_co.pdf\",bbox_inches='tight')\n",
    "\n",
    "hist=np.histogram(GAC_partition,bins=214)[0]\n",
    "print hist\n",
    "print sum(hist==1)\n"
   ]
  },
  {
   "cell_type": "code",
   "execution_count": null,
   "metadata": {
    "collapsed": false
   },
   "outputs": [],
   "source": [
    "G_partition = pd.read_csv(\"../data/G_partition.csv\", sep=\",\", index_col=0, header=0)\n",
    "#print np.unique(G_partition)\n",
    "G_partition.plot(kind=\"hist\",color='k',bins=305,edgecolor='k', alpha=.6)\n",
    "plt.xlim([0,304])\n",
    "plt.gca().set_yscale(\"log\")\n",
    "plt.xlabel('G community index')\n",
    "ax = plt.gca()\n",
    "ax.legend_ = None\n",
    "plt.savefig(\"../figures/G_co.pdf\",bbox_inches='tight')\n",
    "\n",
    "hist=np.histogram(G_partition,bins=305)[0]\n",
    "print hist\n",
    "print sum(hist==1)"
   ]
  },
  {
   "cell_type": "markdown",
   "metadata": {},
   "source": [
    "## Dimensionality reduction:"
   ]
  },
  {
   "cell_type": "code",
   "execution_count": 4,
   "metadata": {
    "collapsed": true
   },
   "outputs": [],
   "source": [
    "todrop = ['source', 'target']#, 'self citation','same journal','articles same co','authors same co']\n",
    "X_= X.drop(todrop,axis=1)\n",
    "scaler = MinMaxScaler()\n",
    "X_ = pd.DataFrame(scaler.fit_transform(X_), columns=X_.columns)"
   ]
  },
  {
   "cell_type": "code",
   "execution_count": null,
   "metadata": {
    "collapsed": false
   },
   "outputs": [],
   "source": [
    "X_pos_ = X_[Y.values==1]\n",
    "X_neg_ = X_[Y.values==0]\n",
    "X_pos_.plot(kind='box',color='b',vert=False)\n",
    "plt.savefig(\"../figures/boxplot_pos.pdf\",bbox_inches='tight')\n",
    "X_neg_.plot(kind='box',color='r',vert=False)\n",
    "plt.savefig(\"../figures/boxplot_neg.pdf\",bbox_inches='tight')"
   ]
  },
  {
   "cell_type": "code",
   "execution_count": null,
   "metadata": {
    "collapsed": false
   },
   "outputs": [],
   "source": [
    "scatter_matrix(X_pos_, alpha=0.2, color='b', figsize=(16, 16),diagonal='name')\n",
    "scatter_matrix(X_neg_, alpha=0.2, color='r', figsize=(16, 16))"
   ]
  },
  {
   "cell_type": "code",
   "execution_count": null,
   "metadata": {
    "collapsed": false
   },
   "outputs": [],
   "source": [
    "# PCA:\n",
    "pca = PCA(n_components='mle')\n",
    "X_pca = pca.fit_transform(X_)\n",
    "POS = (Y.values==1)[:,0]\n",
    "NEG = (Y.values==0)[:,0]\n",
    "print(pca.explained_variance_ratio_)\n",
    "X_pca_pos = X_pca[POS]\n",
    "X_pca_neg = X_pca[NEG]"
   ]
  },
  {
   "cell_type": "code",
   "execution_count": null,
   "metadata": {
    "collapsed": false
   },
   "outputs": [],
   "source": [
    "X_.head()"
   ]
  },
  {
   "cell_type": "code",
   "execution_count": null,
   "metadata": {
    "collapsed": false
   },
   "outputs": [],
   "source": [
    "plt.scatter(X_pca_pos[:,0], X_pca_pos[:,1], s=1, edgecolors='b',\n",
    "               facecolors='b', linewidths=2, label='1',alpha=.5)\n",
    "\n",
    "plt.scatter(X_pca_neg[:,0], X_pca_neg[:,1], s=1, edgecolors='r',\n",
    "               facecolors='r', linewidths=2, label='1',alpha=.5)\n",
    "plt.savefig(\"../figures/pca.png\",bbox_inches='tight',dpi=100)\n"
   ]
  },
  {
   "cell_type": "code",
   "execution_count": null,
   "metadata": {
    "collapsed": false
   },
   "outputs": [],
   "source": [
    "fa = FactorAnalysis()\n",
    "X_fa = fa.fit_transform(X_)\n",
    "X_fa_pos = X_fa[POS]\n",
    "X_fa_neg = X_fa[NEG]"
   ]
  },
  {
   "cell_type": "code",
   "execution_count": null,
   "metadata": {
    "collapsed": false
   },
   "outputs": [],
   "source": [
    "plt.scatter(X_fa_pos[:,0], X_fa_pos[:,1], s=1, edgecolors='b',\n",
    "               facecolors='b', linewidths=2, label='1',alpha=.5)\n",
    "\n",
    "plt.scatter(X_fa_neg[:,0], X_fa_neg[:,1], s=1, edgecolors='r',\n",
    "               facecolors='r', linewidths=2, label='1',alpha=.5)\n",
    "plt.savefig(\"../figures/fa.png\",bbox_inches='tight',dpi=100)"
   ]
  },
  {
   "cell_type": "code",
   "execution_count": null,
   "metadata": {
    "collapsed": false
   },
   "outputs": [],
   "source": [
    "Xtrain = pd.read_csv(\"../data/Xtrain.csv\", sep=\",\", index_col=0, header=0)\n",
    "Ytrain = pd.read_csv(\"../data/Ytrain.csv\", sep=\",\", index_col=0, header=None, names=['link'])\n",
    "Ytrain = Ytrain['link']"
   ]
  },
  {
   "cell_type": "code",
   "execution_count": null,
   "metadata": {
    "collapsed": true
   },
   "outputs": [],
   "source": [
    "#import pandas as pd\n",
    "from classifiers import *\n",
    "Xtrain = pd.read_csv(\"../data/Xtrain.csv\", sep=\",\", index_col=0, header=0)\n",
    "print Xtrain.shape\n",
    "Xtrain=Xtrain[:20000]\n",
    "print Xtrain.shape\n",
    "Ytrain = pd.read_csv(\"../data/Ytrain.csv\", sep=\",\", index_col=0, header=None, names=['link'])\n",
    "print Ytrain.shape\n",
    "Ytrain = Ytrain['link']\n",
    "Ytrain = Ytrain[:20000]\n",
    "print Ytrain.shape\n",
    "rfe = recursive_feature_elimination(Xtrain,Ytrain)"
   ]
  },
  {
   "cell_type": "markdown",
   "metadata": {},
   "source": [
    "# Caffe loss evolution"
   ]
  },
  {
   "cell_type": "code",
   "execution_count": 13,
   "metadata": {
    "collapsed": false
   },
   "outputs": [],
   "source": [
    "logg = pd.read_csv(\"caffe_NN/nn.log.train\", sep=\";\", index_col=0, header=0)\n",
    "loggt = pd.read_csv(\"caffe_NN/nn.log.test\", sep=\";\", index_col=0, header=0)"
   ]
  },
  {
   "cell_type": "code",
   "execution_count": 17,
   "metadata": {
    "collapsed": false
   },
   "outputs": [
    {
     "data": {
      "text/html": [
       "<div>\n",
       "<table border=\"1\" class=\"dataframe\">\n",
       "  <thead>\n",
       "    <tr style=\"text-align: right;\">\n",
       "      <th></th>\n",
       "      <th>Seconds</th>\n",
       "      <th>LearningRate</th>\n",
       "      <th>accuracy</th>\n",
       "      <th>loss</th>\n",
       "    </tr>\n",
       "    <tr>\n",
       "      <th>NumIters</th>\n",
       "      <th></th>\n",
       "      <th></th>\n",
       "      <th></th>\n",
       "      <th></th>\n",
       "    </tr>\n",
       "  </thead>\n",
       "  <tbody>\n",
       "    <tr>\n",
       "      <th>0.0</th>\n",
       "      <td>0.007147</td>\n",
       "      <td>0.020000</td>\n",
       "      <td>0.323</td>\n",
       "      <td>0.725468</td>\n",
       "    </tr>\n",
       "    <tr>\n",
       "      <th>1000.0</th>\n",
       "      <td>0.470802</td>\n",
       "      <td>0.020000</td>\n",
       "      <td>0.911</td>\n",
       "      <td>0.248736</td>\n",
       "    </tr>\n",
       "    <tr>\n",
       "      <th>2000.0</th>\n",
       "      <td>0.933098</td>\n",
       "      <td>0.018620</td>\n",
       "      <td>0.946</td>\n",
       "      <td>0.173956</td>\n",
       "    </tr>\n",
       "    <tr>\n",
       "      <th>3000.0</th>\n",
       "      <td>1.390445</td>\n",
       "      <td>0.017444</td>\n",
       "      <td>0.951</td>\n",
       "      <td>0.151576</td>\n",
       "    </tr>\n",
       "    <tr>\n",
       "      <th>4000.0</th>\n",
       "      <td>1.867472</td>\n",
       "      <td>0.016428</td>\n",
       "      <td>0.963</td>\n",
       "      <td>0.137496</td>\n",
       "    </tr>\n",
       "  </tbody>\n",
       "</table>\n",
       "</div>"
      ],
      "text/plain": [
       "           Seconds  LearningRate  accuracy      loss\n",
       "NumIters                                            \n",
       "0.0       0.007147      0.020000     0.323  0.725468\n",
       "1000.0    0.470802      0.020000     0.911  0.248736\n",
       "2000.0    0.933098      0.018620     0.946  0.173956\n",
       "3000.0    1.390445      0.017444     0.951  0.151576\n",
       "4000.0    1.867472      0.016428     0.963  0.137496"
      ]
     },
     "execution_count": 17,
     "metadata": {},
     "output_type": "execute_result"
    }
   ],
   "source": [
    "loggt.head()"
   ]
  },
  {
   "cell_type": "code",
   "execution_count": 18,
   "metadata": {
    "collapsed": false
   },
   "outputs": [
    {
     "data": {
      "text/plain": [
       "<matplotlib.axes._subplots.AxesSubplot at 0x112e1cfd0>"
      ]
     },
     "execution_count": 18,
     "metadata": {},
     "output_type": "execute_result"
    },
    {
     "data": {
      "image/png": "[encoded data removed]",
      "text/plain": [
       "<matplotlib.figure.Figure at 0x112e82210>"
      ]
     },
     "metadata": {},
     "output_type": "display_data"
    }
   ],
   "source": [
    "logg['loss'].plot()"
   ]
  },
  {
   "cell_type": "code",
   "execution_count": null,
   "metadata": {
    "collapsed": true
   },
   "outputs": [],
   "source": []
  }
 ],
 "metadata": {
  "kernelspec": {
   "display_name": "Python 2",
   "language": "python",
   "name": "python2"
  },
  "language_info": {
   "codemirror_mode": {
    "name": "ipython",
    "version": 2
   },
   "file_extension": ".py",
   "mimetype": "text/x-python",
   "name": "python",
   "nbconvert_exporter": "python",
   "pygments_lexer": "ipython2",
   "version": "2.7.11"
  }
 },
 "nbformat": 4,
 "nbformat_minor": 0
}
