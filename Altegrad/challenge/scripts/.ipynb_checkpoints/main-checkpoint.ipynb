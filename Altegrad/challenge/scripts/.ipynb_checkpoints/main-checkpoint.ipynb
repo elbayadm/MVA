{
 "cells": [
  {
   "cell_type": "code",
   "execution_count": 1,
   "metadata": {
    "collapsed": false
   },
   "outputs": [],
   "source": [
    "from __future__ import division\n",
    "import random\n",
    "import csv\n",
    "import numpy as np\n",
    "import pandas as pd\n",
    "import networkx as nx\n",
    "\n",
    "%load_ext autoreload\n",
    "%autoreload 2\n",
    "from attribute_features import *\n",
    "from semantic_features import *\n",
    "from topological_features import *\n",
    "from classifiers import *\n"
   ]
  },
  {
   "cell_type": "markdown",
   "metadata": {},
   "source": [
    "# Loading datasets"
   ]
  },
  {
   "cell_type": "code",
   "execution_count": null,
   "metadata": {
    "collapsed": false
   },
   "outputs": [],
   "source": [
    "# Load the training set\n",
    "Xfull = pd.read_csv(\"../data/training_set.txt\", sep=\" \", header=None)\n",
    "# Shuffling\n",
    "Xfull = Xfull.reindex(np.random.permutation(Xfull.index))\n",
    "Yfull = Xfull[2]\n",
    "Xfull.drop([2], axis = 1, inplace = True)\n",
    "print 'Full training set dimension: ',Xfull.shape\n",
    "\n",
    "n = 600000\n",
    "Xtrain = Xfull[:n]\n",
    "Xtrain.index = range(n)\n",
    "Ytrain = Yfull[:n]\n",
    "Ytrain.index = range(n)\n",
    "\n",
    "m = int(n + round(n/10))\n",
    "Xval = Xfull[n+1:]\n",
    "Yval = Yfull[n+1:]\n",
    "print 'Train/validation subsets:'\n",
    "print \"Train : \", Xtrain.shape , Ytrain.shape\n",
    "print \"Validation : \", Xval.shape, Yval.shape"
   ]
  },
  {
   "cell_type": "code",
   "execution_count": null,
   "metadata": {
    "collapsed": false
   },
   "outputs": [],
   "source": [
    "Xtrain.head()"
   ]
  },
  {
   "cell_type": "code",
   "execution_count": null,
   "metadata": {
    "collapsed": false
   },
   "outputs": [],
   "source": [
    "nodes_info = pd.read_csv(\"../data/node_information.csv\", header= None,\\\n",
    " names=[\"Id\", \"year\", \"title\", \"authors\", \"journal\", \"abstract\"],\\\n",
    " sep=\",\",index_col = \"Id\", encoding = 'utf-8')\n",
    "# Parsing authors and their affiliations\n",
    "fix_auth_aff(nodes_info)"
   ]
  },
  {
   "cell_type": "code",
   "execution_count": null,
   "metadata": {
    "collapsed": false
   },
   "outputs": [],
   "source": [
    "nodes_info.head()"
   ]
  },
  {
   "cell_type": "markdown",
   "metadata": {},
   "source": [
    "# Topological features:\n",
    "1. Betweenness centrality\n",
    "2. Nb. common neighbors\n",
    "3. Jaccard coefficients\n",
    "4. Difference of inlinks\n",
    "5. Nb. of articles that cited the target\n",
    "6. Academic/adar\n",
    "7. Max cited author pagerank (authors citations graph)\n",
    "8. Authors similarity (simrank on authors co-authorship graph)"
   ]
  },
  {
   "cell_type": "code",
   "execution_count": null,
   "metadata": {
    "collapsed": false
   },
   "outputs": [],
   "source": [
    "# Building the citations graph...\n",
    "G = build_graph(Xtrain, Ytrain, nodes_info)\n",
    "# Building the authors graphs...\n",
    "GAC = build_authors_citation_graph(Xtrain, Ytrain, nodes_info)\n",
    "GAA = build_authors_coauthorship_graph(nodes_info)\n",
    "\n",
    "\n",
    "# Save graphs\n",
    "fh1 = open(\"../data/G_authors_citations.edgelist\",\"wb\")\n",
    "nx.write_edgelist(GAC,fh1)\n",
    "fh2 = open(\"../data/G_authors_coauthorship.edgelist\",\"wb\")\n",
    "nx.write_edgelist(GAA,fh2)\n",
    "fh3 = open(\"../data/G_articles.edgelist\",\"wb\")\n",
    "nx.write_edgelist(G,fh3)"
   ]
  },
  {
   "cell_type": "code",
   "execution_count": null,
   "metadata": {
    "collapsed": false
   },
   "outputs": [],
   "source": [
    "Xtrain = topologic_features(Xtrain, G, GAC, GAA, nodes_info)\n",
    "print 'Updated dimension: ',Xtrain.shape"
   ]
  },
  {
   "cell_type": "code",
   "execution_count": null,
   "metadata": {
    "collapsed": false
   },
   "outputs": [],
   "source": [
    "Xtrain.head()"
   ]
  },
  {
   "cell_type": "markdown",
   "metadata": {},
   "source": [
    "# Attribute features:\n",
    "1. Title overlap\n",
    "2. Abstract overlap\n",
    "3. Difference in publication year\n",
    "4. Is self citation\n",
    "5. same journal\n",
    "6. Common authors\n",
    "7. Is same institution\n"
   ]
  },
  {
   "cell_type": "code",
   "execution_count": null,
   "metadata": {
    "collapsed": false
   },
   "outputs": [],
   "source": [
    "Xtrain = attribute_features(Xtrain, nodes_info)\n",
    "print 'Updated dimension: ', Xtrain.shape"
   ]
  },
  {
   "cell_type": "code",
   "execution_count": null,
   "metadata": {
    "collapsed": false
   },
   "outputs": [],
   "source": [
    "Xtrain.head()"
   ]
  },
  {
   "cell_type": "markdown",
   "metadata": {},
   "source": [
    "# Semantic features:\n",
    "1. Tf-Idf abstract cosine\n",
    "2. Word2vec abstract cosine"
   ]
  },
  {
   "cell_type": "code",
   "execution_count": null,
   "metadata": {
    "collapsed": false
   },
   "outputs": [],
   "source": [
    "Xtrain = semantic_features(Xtrain, nodes_info)\n",
    "print 'Updated dimension: ', Xtrain.shape"
   ]
  },
  {
   "cell_type": "code",
   "execution_count": null,
   "metadata": {
    "collapsed": false
   },
   "outputs": [],
   "source": [
    "Xtrain.head()"
   ]
  },
  {
   "cell_type": "code",
   "execution_count": null,
   "metadata": {
    "collapsed": true
   },
   "outputs": [],
   "source": [
    "# Save features for visualization:\n",
    "Xtrain.to_csv('../data/Xtrain.csv')\n",
    "Ytrain.to_csv('../data/Ytrain.csv')"
   ]
  },
  {
   "cell_type": "code",
   "execution_count": null,
   "metadata": {
    "collapsed": false
   },
   "outputs": [],
   "source": [
    "# Same features for the valisation set:\n",
    "Xval = topologic_features(Xval, G, GAC, GAA, nodes_info,train=False)\n",
    "Xval = attribute_features(Xval, nodes_info, train=False)\n",
    "Xval = semantic_features(Xval, nodes_info, train=False)"
   ]
  },
  {
   "cell_type": "code",
   "execution_count": null,
   "metadata": {
    "collapsed": false
   },
   "outputs": [],
   "source": [
    "Xval.head()"
   ]
  },
  {
   "cell_type": "markdown",
   "metadata": {},
   "source": [
    "# Benchmark classifiers"
   ]
  },
  {
   "cell_type": "markdown",
   "metadata": {},
   "source": [
    "## SVM classification"
   ]
  },
  {
   "cell_type": "code",
   "execution_count": null,
   "metadata": {
    "collapsed": false
   },
   "outputs": [],
   "source": [
    "svm_model,X1, scaler, = train_svm(Xtrain,Ytrain, Xval, Yval)"
   ]
  },
  {
   "cell_type": "code",
   "execution_count": null,
   "metadata": {
    "collapsed": false
   },
   "outputs": [],
   "source": [
    "X1.head()"
   ]
  },
  {
   "cell_type": "markdown",
   "metadata": {},
   "source": [
    "## Random forest"
   ]
  },
  {
   "cell_type": "code",
   "execution_count": null,
   "metadata": {
    "collapsed": false
   },
   "outputs": [],
   "source": [
    "train_rf(Xtrain, Ytrain, Xval, Yval)"
   ]
  },
  {
   "cell_type": "code",
   "execution_count": null,
   "metadata": {
    "collapsed": false
   },
   "outputs": [],
   "source": [
    "rfe = recursive_feature_elimination(Xtrain,Ytrain)\n",
    "Results =  Xtrain.loc[0,'betweeness centrality':]\n",
    "Results[:]= rfe.ranking_.T\n",
    "print(Results)\n",
    "# Selected (i.e., estimated best) features are assigned rank 1"
   ]
  },
  {
   "cell_type": "code",
   "execution_count": null,
   "metadata": {
    "collapsed": false
   },
   "outputs": [],
   "source": [
    "train_extraT(Xtrain, Ytrain, Xval, Yval)"
   ]
  },
  {
   "cell_type": "markdown",
   "metadata": {
    "collapsed": true
   },
   "source": [
    "## Grid search"
   ]
  },
  {
   "cell_type": "code",
   "execution_count": null,
   "metadata": {
    "collapsed": true
   },
   "outputs": [],
   "source": [
    "svm_model = gridsearch_svm(Xtrain,Ytrain, Xval, Yval)"
   ]
  }
 ],
 "metadata": {
  "kernelspec": {
   "display_name": "Python 2",
   "language": "python",
   "name": "python2"
  },
  "language_info": {
   "codemirror_mode": {
    "name": "ipython",
    "version": 2
   },
   "file_extension": ".py",
   "mimetype": "text/x-python",
   "name": "python",
   "nbconvert_exporter": "python",
   "pygments_lexer": "ipython2",
   "version": "2.7.11"
  }
 },
 "nbformat": 4,
 "nbformat_minor": 0
}
